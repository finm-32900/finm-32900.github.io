{
 "cells": [
  {
   "cell_type": "markdown",
   "metadata": {},
   "source": [
    "# HW Guide Part B: Reconstructing the S&P 500 Index\n",
    "\n",
    "\n",
    "## Introduction\n",
    "\n",
    "The **S&P 500 Index** is one of the most well-known benchmarks for the U.S. equity market. It represents the performance of 500 large-cap companies across various industries, serving as a proxy for the overall stock market. Constructing an index of this nature involves aggregation of market data, weighting by market capitalization, and accounting for changes in index membership over time. This lecture introduces the mechanics of the S&P 500 index, provides an overview of its construction, and guides you through a case study on approximating its level and returns using data from CRSP and WRDS. Some of the information needed to perfectly replicate the S\\&P 500 index is proprietary and not available through WRDS. So, the approximation in the next section will be imperfect. However, it will be close enough. For now, we will use this note to get a better understanding of how the S\\&P 500 is constructed. \n",
    "\n",
    "\n",
    "### Why Reconstruct the S&P 500 Index?\n",
    "\n",
    "Reconstructing the S&P 500 index from its underlying constituents is a valuable exercise for students of quantitative finance. This process:\n",
    "\n",
    "1. **Provides Practical Data Experience**: You'll gain hands-on experience with downloading and processing real financial data from Wharton Research Data Services (WRDS) and CRSP.\n",
    "2. **Develops Insight into Index Construction**: By breaking down the methodology, you will better understand the structure and mechanics of market-capitalization-weighted indices.\n",
    "3. **Builds Programming Skills**: The reconstruction process requires advanced data handling, including merging datasets, calculating weights, and implementing rebalancing rules.\n",
    "4. **Reveals Approximation Techniques**: As the S&P 500’s official calculation includes proprietary adjustments, this exercise demonstrates how to approximate real-world phenomena using accessible data and mathematical techniques.\n",
    "5. **Enhances Quantitative Finance Skills**: The reconstruction builds your ability to analyze returns, index performance, and the impact of portfolio rebalancing.\n",
    "\n",
    "### Learning Goals\n",
    "\n",
    "By the end of this lecture and exercise, you should be able to:\n",
    "- Explain the construction methodology of the S&P 500 index.\n",
    "- Use historical data on index constituents, prices, and shares outstanding to approximate the index.\n",
    "- Implement two methods for approximating the index:\n",
    "  - **Method A**: a simple sum of the market caps of the index's constituents\n",
    "  - **Method B**: an approximation that assumes that a trader forms a porfolio holding the index's constituents and rebalances the portfolio quarterly.\n",
    "- Compare your reconstructed index to the actual S&P 500 index by analyzing the correlation of levels and returns.\n",
    "\n",
    "---\n"
   ]
  },
  {
   "cell_type": "markdown",
   "metadata": {},
   "source": [
    "## Official S\\&P 500 Index Methodology\n",
    "\n",
    "\n",
    "The S&P 500 index contains approximately 500 of the largest publicly traded U.S. companies by market capitalization, selected by the S&P Dow Jones Indices committee based on criteria such as liquidity, profitability, and market size. The index is a **market-capitalization-weighted index**, meaning that each stock in the index is weighted by its market cap. The index is rebalanced quarterly to reflect changes in membership and market values, ensuring it accurately represents the large-cap equity market. Key features of the index include:\n",
    "\n",
    "\n",
    "A full description of the methodology used to calculate the S\\&P 500 index is available [here](https://www.spglobal.com/spdji/en/documents/methodologies/methodology-index-math.pdf). However, the following steps provide a simplified overview of the calculation process.\n",
    "\n",
    "\n",
    "### 1. Determine the Market Capitalization of Each Constituent Company\n",
    "\n",
    "The market capitalization of a company represents its total equity value in the stock market. It is determined by multiplying the current market price per share by the total number of outstanding shares.\n",
    "\n",
    "$$\n",
    "  \\text{MarketCap}_{i, t} = P_{i,t} \\times \\text{Shrout}_{i,t},\n",
    "$$\n",
    "\n",
    "where $P_{i,t}$ is the stock price and $\\text{Shrout}_{i,t}$ is the number of shares outstanding.\n",
    "\n",
    "### 2. Adjust the Market Capitalization for Free Float\n",
    "\n",
    "The S\\&P 500 utilizes a \"free-float market capitalization-weighted methodology\". This method focuses solely on the shares readily available for trading by the public, excluding those held by company insiders or governments. Therefore, the next crucial step involves adjusting the market capitalization to account for the \"free float\" of each company's shares. Free float refers to the portion of outstanding shares that are readily available for trading in the open market. This adjustment ensures that the index accurately reflects the true market value of the companies based on the shares that investors can actively buy and sell.\n",
    "\n",
    "To calculate the free-float market capitalization, an Investable Weight Factor (IWF) is employed. The IWF represents the percentage of a company's total outstanding shares that are included in the index calculation. It is used to adjust for various factors, including foreign ownership restrictions, that might affect a stock's actual weight in the index.\n",
    "\n",
    "$$\n",
    "\\text{Free-float MarketCap}_{i, t} = \\text{MarketCap}_{i, t} \\times \\text{IWF}_{i},\n",
    "$$\n",
    "where $\\text{IWF}_{i}$ represents the proportion of a company’s shares that are freely available for trading.\n",
    "\n",
    "The IWF is typically expressed as a percentage and is obtained from financial data providers. For example, if 80% of a company’s shares are available for public trading, its IWF would be 0.8.\n",
    "\n",
    "\n",
    "### 3. Calculate the Total Market Capitalization of the Index\n",
    "\n",
    "Once the free-float market capitalization is calculated for each company, these values are summed to arrive at the total market capitalization of the S\\&P 500. This aggregate value serves as the numerator in the index calculation.\n",
    "\n",
    "The total market cap of the index is\n",
    "\n",
    "$$\n",
    "\\text{MarketCapSP500}_{t} = \\sum_{i \\in \\mathcal{I}_{S\\&P, t}} \\text{MarketCap}_{i, t},\n",
    "$$\n",
    "\n",
    "where $\\mathcal{I}_{S\\&P, t}$ represents the set of constituents at time $t$.\n",
    "\n",
    "\n",
    "### 4. Calculate the Divisor\n",
    "\n",
    "The divisor is a critical element in the S\\&P 500 calculation. It is a proprietary value determined by S\\&P Dow Jones Indices and is used to scale the index down to a more manageable and reportable level. The divisor is subject to adjustments over time to account for various corporate actions that could influence the index's value. These actions include:\n",
    "\n",
    "* **Stock Splits:** When a company splits its stock, the number of outstanding shares increases, while the price per share decreases proportionally. The divisor is adjusted to prevent this corporate action from artificially impacting the index level.  \n",
    "* **Dividends:** While regular cash dividends do not directly affect the index level, special dividends, which are larger, one-time distributions, can influence the divisor.  \n",
    "* **Spinoffs:** When a company spins off a subsidiary into a separate publicly traded entity, the divisor is adjusted to reflect the change in the index's composition.  \n",
    "* **Index Reconstitution:** The S\\&P 500 periodically adds or removes companies to ensure it continues to represent the leading U.S. equities. These changes also necessitate adjustments to the divisor.\n",
    "\n",
    "\n",
    "The divisor plays a crucial role in maintaining the index's continuity over time. The divisor adjustment process ensures that these actions do not introduce artificial jumps or drops in the index level.\n",
    "By adjusting for corporate actions and changes in the index's constituents, the divisor ensures that the S\\&P 500 remains a consistent and reliable benchmark for tracking the performance of the U.S. equity market. The formula for the divisor adjustment depends on the specific corporate action and is detailed in S&P Dow Jones Indices’ methodology documents (see [S&P Dow Jones Indices' Index Mathematics Methodology](https://www.spglobal.com/spdji/en/documents/methodologies/methodology-index-math.pdf)).\n",
    "\n",
    "\n",
    "\n",
    "\n",
    "| Corporate Action   | Impact on Divisor                                       | Example                                                        |\n",
    "|--------------------|---------------------------------------------------------|----------------------------------------------------------------|\n",
    "| **Stock Split**    | Adjusted to maintain index continuity                   | A 2-for-1 stock split doubles shares but halves the price.     |\n",
    "| **Special Dividend** | Adjusted to account for the distribution               | A one-time dividend reduces market capitalization.            |\n",
    "| **Spinoff**        | Adjusted to reflect the spun-off entity's market cap    | A parent company spins off a subsidiary as a new company.      |\n",
    "| **Index Reconstitution** | Adjusted for additions/removals in the index       | A new company is added, requiring a reweighting of constituents. |\n",
    "\n",
    "\n",
    "\n",
    "### 5. Calculate the Index Level\n",
    "\n",
    "\n",
    "Finally, the S&P 500 index level is calculated as:\n",
    "\n",
    "$$\n",
    "\\text{Index Level}_{t} = \\frac{1}{\\text{Divisor}_{t}} \\times \\sum_{i \\in \\mathcal{I}_{S\\&P, t}} P_{i,t} \\times \\text{Free-float Shrout}_{i,t},\n",
    "$$\n",
    "\n",
    "where $P_{i,t}$ is the stock price of company $i$ at time $t$, $\\text{Free-float Shrout}_{i,t}$ is the number of freely traded shares of company $i$ at time $t$, and $\\text{Divisor}$ is the proprietary scaling factor.\n",
    "\n",
    "This formula aggregates the weighted market capitalizations of all constituents, scaled by the divisor to produce the reported index level.\n",
    "\n",
    "---"
   ]
  },
  {
   "cell_type": "markdown",
   "metadata": {},
   "source": [
    "## Approximating the S\\&P 500 Index with data from CRSP\n",
    "\n",
    "As discussed in the introduction, the S\\&P 500 index is a proprietary calculation and not available through WRDS. However, we can approximate the index level and returns using data from CRSP. Here, we will implement two methods for approximating the index:\n",
    "  - **Method A**: a simple sum of the market caps of the index's constituents\n",
    "  - **Method B**: an approximation that assumes that a trader forms a porfolio holding the index's constituents and rebalances the portfolio quarterly.\n",
    "We will then compare the reconstructed index to the actual S\\&P 500 index by analyzing the correlation of levels and returns.\n",
    "\n",
    "### Data Required for Approximation\n",
    "\n",
    "To reconstruct the S&P 500 index, we need:\n",
    "1. **Constituent Data**: Membership data indicating which stocks were part of the index at each point in time.\n",
    "2. **Price and Shares Outstanding Data**: Stock-level data to calculate market capitalizations.\n",
    "3. **Index Level and Return Data**: Official S&P 500 data for comparison and normalization.\n",
    "\n",
    "Data on the historical constituents of the S&P 500 is available through WRDS, while price and shares outstanding data can be accessed through CRSP.\n",
    "\n",
    "Let's explore that data now."
   ]
  },
  {
   "cell_type": "code",
   "execution_count": 1,
   "metadata": {},
   "outputs": [],
   "source": [
    "import pandas as pd\n",
    "import numpy as np\n",
    "import wrds\n",
    "from matplotlib import pyplot as plt\n",
    "import seaborn as sns\n",
    "\n",
    "\n",
    "import pull_CRSP_stock\n",
    "import pull_SP500_constituents\n",
    "import calc_SP500_index\n",
    "from settings import config\n",
    "\n",
    "DATA_DIR = config(\"DATA_DIR\")\n",
    "WRDS_USERNAME = config(\"WRDS_USERNAME\")\n",
    "START_DATE = pd.to_datetime(\"1960-01-01\")\n",
    "END_DATE = pd.to_datetime(\"2023-12-29\")\n",
    "\n",
    "sns.set_theme()"
   ]
  },
  {
   "cell_type": "markdown",
   "metadata": {},
   "source": [
    "#### Load the Constituent Data"
   ]
  },
  {
   "cell_type": "code",
   "execution_count": 2,
   "metadata": {},
   "outputs": [
    {
     "name": "stdout",
     "output_type": "stream",
     "text": [
      "Loading library list...\n"
     ]
    },
    {
     "name": "stdout",
     "output_type": "stream",
     "text": [
      "Done\n"
     ]
    },
    {
     "data": {
      "text/html": [
       "<div>\n",
       "<style scoped>\n",
       "    .dataframe tbody tr th:only-of-type {\n",
       "        vertical-align: middle;\n",
       "    }\n",
       "\n",
       "    .dataframe tbody tr th {\n",
       "        vertical-align: top;\n",
       "    }\n",
       "\n",
       "    .dataframe thead th {\n",
       "        text-align: right;\n",
       "    }\n",
       "</style>\n",
       "<table border=\"1\" class=\"dataframe\">\n",
       "  <thead>\n",
       "    <tr style=\"text-align: right;\">\n",
       "      <th></th>\n",
       "      <th>permno</th>\n",
       "      <th>indno</th>\n",
       "      <th>mbrstartdt</th>\n",
       "      <th>mbrenddt</th>\n",
       "      <th>mbrflg</th>\n",
       "      <th>indfam</th>\n",
       "    </tr>\n",
       "  </thead>\n",
       "  <tbody>\n",
       "    <tr>\n",
       "      <th>0</th>\n",
       "      <td>10006</td>\n",
       "      <td>1000500</td>\n",
       "      <td>1957-03-01</td>\n",
       "      <td>1984-07-18</td>\n",
       "      <td>NORM</td>\n",
       "      <td>1100500</td>\n",
       "    </tr>\n",
       "    <tr>\n",
       "      <th>1</th>\n",
       "      <td>10030</td>\n",
       "      <td>1000500</td>\n",
       "      <td>1957-03-01</td>\n",
       "      <td>1969-01-08</td>\n",
       "      <td>NORM</td>\n",
       "      <td>1100500</td>\n",
       "    </tr>\n",
       "    <tr>\n",
       "      <th>2</th>\n",
       "      <td>10049</td>\n",
       "      <td>1000500</td>\n",
       "      <td>1925-12-31</td>\n",
       "      <td>1932-10-01</td>\n",
       "      <td>NORM</td>\n",
       "      <td>1100500</td>\n",
       "    </tr>\n",
       "    <tr>\n",
       "      <th>3</th>\n",
       "      <td>10057</td>\n",
       "      <td>1000500</td>\n",
       "      <td>1957-03-01</td>\n",
       "      <td>1992-07-02</td>\n",
       "      <td>NORM</td>\n",
       "      <td>1100500</td>\n",
       "    </tr>\n",
       "    <tr>\n",
       "      <th>4</th>\n",
       "      <td>10078</td>\n",
       "      <td>1000500</td>\n",
       "      <td>1992-08-20</td>\n",
       "      <td>2010-01-28</td>\n",
       "      <td>NORM</td>\n",
       "      <td>1100500</td>\n",
       "    </tr>\n",
       "  </tbody>\n",
       "</table>\n",
       "</div>"
      ],
      "text/plain": [
       "   permno    indno mbrstartdt   mbrenddt mbrflg   indfam\n",
       "0   10006  1000500 1957-03-01 1984-07-18   NORM  1100500\n",
       "1   10030  1000500 1957-03-01 1969-01-08   NORM  1100500\n",
       "2   10049  1000500 1925-12-31 1932-10-01   NORM  1100500\n",
       "3   10057  1000500 1957-03-01 1992-07-02   NORM  1100500\n",
       "4   10078  1000500 1992-08-20 2010-01-28   NORM  1100500"
      ]
     },
     "execution_count": 2,
     "metadata": {},
     "output_type": "execute_result"
    }
   ],
   "source": [
    "db = wrds.Connection(wrds_username=WRDS_USERNAME)\n",
    "df_constituents = db.raw_sql(\"\"\" \n",
    "select *  \n",
    "from crsp_m_indexes.dsp500list_v2 \n",
    "-- limit 2000  \n",
    "\"\"\")\n",
    "db.close()\n",
    "# Convert string columns to datetime if they aren't already\n",
    "df_constituents[\"mbrstartdt\"] = pd.to_datetime(df_constituents[\"mbrstartdt\"])\n",
    "df_constituents[\"mbrenddt\"] = pd.to_datetime(df_constituents[\"mbrenddt\"])\n",
    "df_constituents.head()\n"
   ]
  },
  {
   "cell_type": "code",
   "execution_count": 3,
   "metadata": {},
   "outputs": [
    {
     "name": "stdout",
     "output_type": "stream",
     "text": [
      "<class 'pandas.core.frame.DataFrame'>\n",
      "RangeIndex: 2064 entries, 0 to 2063\n",
      "Data columns (total 6 columns):\n",
      " #   Column      Non-Null Count  Dtype         \n",
      "---  ------      --------------  -----         \n",
      " 0   permno      2064 non-null   int64         \n",
      " 1   indno       2064 non-null   int64         \n",
      " 2   mbrstartdt  2064 non-null   datetime64[ns]\n",
      " 3   mbrenddt    2064 non-null   datetime64[ns]\n",
      " 4   mbrflg      2064 non-null   object        \n",
      " 5   indfam      2064 non-null   int64         \n",
      "dtypes: datetime64[ns](2), int64(3), object(1)\n",
      "memory usage: 96.9+ KB\n"
     ]
    }
   ],
   "source": [
    "df_constituents.info()"
   ]
  },
  {
   "cell_type": "markdown",
   "metadata": {},
   "source": [
    "Dictionary of columns:\n",
    "\n",
    "- `permno`, _int64_:  Permno of the constituent, where a permno is a unique identifier for a stock issued by CRSP.\n",
    "- `indno`, _int64_:  Index number of the constituent, where the index number is a unique identifier for the S&P 500 index.\n",
    "- `mbrstartdt`, _object_:  Membership start date of the constituent in the S&P 500 index.\n",
    "- `mbrenddt`, _object_:  Membership end date of the constituent in the S&P 500 index.\n",
    "- `mbrflg`, _object_:  Membership flag of the constituent in the S&P 500 index.\n",
    "- `indfam`, _int64_:  Index family of the constituent, where the index family is a unique identifier for the S&P 500 index.\n",
    "\n",
    "\n"
   ]
  },
  {
   "cell_type": "code",
   "execution_count": 4,
   "metadata": {},
   "outputs": [
    {
     "data": {
      "text/html": [
       "<div>\n",
       "<style scoped>\n",
       "    .dataframe tbody tr th:only-of-type {\n",
       "        vertical-align: middle;\n",
       "    }\n",
       "\n",
       "    .dataframe tbody tr th {\n",
       "        vertical-align: top;\n",
       "    }\n",
       "\n",
       "    .dataframe thead th {\n",
       "        text-align: right;\n",
       "    }\n",
       "</style>\n",
       "<table border=\"1\" class=\"dataframe\">\n",
       "  <thead>\n",
       "    <tr style=\"text-align: right;\">\n",
       "      <th></th>\n",
       "      <th>permno</th>\n",
       "      <th>indno</th>\n",
       "      <th>mbrstartdt</th>\n",
       "      <th>mbrenddt</th>\n",
       "      <th>indfam</th>\n",
       "    </tr>\n",
       "  </thead>\n",
       "  <tbody>\n",
       "    <tr>\n",
       "      <th>count</th>\n",
       "      <td>2064.000000</td>\n",
       "      <td>2064.0</td>\n",
       "      <td>2064</td>\n",
       "      <td>2064</td>\n",
       "      <td>2064.0</td>\n",
       "    </tr>\n",
       "    <tr>\n",
       "      <th>mean</th>\n",
       "      <td>42298.498547</td>\n",
       "      <td>1000500.0</td>\n",
       "      <td>1981-11-04 14:12:33.488372160</td>\n",
       "      <td>1999-08-27 01:57:54.418604672</td>\n",
       "      <td>1100500.0</td>\n",
       "    </tr>\n",
       "    <tr>\n",
       "      <th>min</th>\n",
       "      <td>10006.000000</td>\n",
       "      <td>1000500.0</td>\n",
       "      <td>1925-12-31 00:00:00</td>\n",
       "      <td>1928-08-24 00:00:00</td>\n",
       "      <td>1100500.0</td>\n",
       "    </tr>\n",
       "    <tr>\n",
       "      <th>25%</th>\n",
       "      <td>18249.750000</td>\n",
       "      <td>1000500.0</td>\n",
       "      <td>1957-03-01 00:00:00</td>\n",
       "      <td>1982-06-02 00:00:00</td>\n",
       "      <td>1100500.0</td>\n",
       "    </tr>\n",
       "    <tr>\n",
       "      <th>50%</th>\n",
       "      <td>28484.000000</td>\n",
       "      <td>1000500.0</td>\n",
       "      <td>1982-10-31 12:00:00</td>\n",
       "      <td>2001-12-13 00:00:00</td>\n",
       "      <td>1100500.0</td>\n",
       "    </tr>\n",
       "    <tr>\n",
       "      <th>75%</th>\n",
       "      <td>68657.500000</td>\n",
       "      <td>1000500.0</td>\n",
       "      <td>2002-07-22 00:00:00</td>\n",
       "      <td>2024-04-10 18:00:00</td>\n",
       "      <td>1100500.0</td>\n",
       "    </tr>\n",
       "    <tr>\n",
       "      <th>max</th>\n",
       "      <td>93436.000000</td>\n",
       "      <td>1000500.0</td>\n",
       "      <td>2024-12-23 00:00:00</td>\n",
       "      <td>2024-12-31 00:00:00</td>\n",
       "      <td>1100500.0</td>\n",
       "    </tr>\n",
       "    <tr>\n",
       "      <th>std</th>\n",
       "      <td>27679.821158</td>\n",
       "      <td>0.0</td>\n",
       "      <td>NaN</td>\n",
       "      <td>NaN</td>\n",
       "      <td>0.0</td>\n",
       "    </tr>\n",
       "  </tbody>\n",
       "</table>\n",
       "</div>"
      ],
      "text/plain": [
       "             permno      indno                     mbrstartdt  \\\n",
       "count   2064.000000     2064.0                           2064   \n",
       "mean   42298.498547  1000500.0  1981-11-04 14:12:33.488372160   \n",
       "min    10006.000000  1000500.0            1925-12-31 00:00:00   \n",
       "25%    18249.750000  1000500.0            1957-03-01 00:00:00   \n",
       "50%    28484.000000  1000500.0            1982-10-31 12:00:00   \n",
       "75%    68657.500000  1000500.0            2002-07-22 00:00:00   \n",
       "max    93436.000000  1000500.0            2024-12-23 00:00:00   \n",
       "std    27679.821158        0.0                            NaN   \n",
       "\n",
       "                            mbrenddt     indfam  \n",
       "count                           2064     2064.0  \n",
       "mean   1999-08-27 01:57:54.418604672  1100500.0  \n",
       "min              1928-08-24 00:00:00  1100500.0  \n",
       "25%              1982-06-02 00:00:00  1100500.0  \n",
       "50%              2001-12-13 00:00:00  1100500.0  \n",
       "75%              2024-04-10 18:00:00  1100500.0  \n",
       "max              2024-12-31 00:00:00  1100500.0  \n",
       "std                              NaN        0.0  "
      ]
     },
     "execution_count": 4,
     "metadata": {},
     "output_type": "execute_result"
    }
   ],
   "source": [
    "df_constituents.describe()"
   ]
  },
  {
   "cell_type": "code",
   "execution_count": 5,
   "metadata": {},
   "outputs": [
    {
     "data": {
      "text/plain": [
       "1936"
      ]
     },
     "execution_count": 5,
     "metadata": {},
     "output_type": "execute_result"
    }
   ],
   "source": [
    "df_constituents[\"permno\"].nunique()"
   ]
  },
  {
   "cell_type": "code",
   "execution_count": 6,
   "metadata": {},
   "outputs": [
    {
     "data": {
      "text/plain": [
       "mbrflg\n",
       "NORM    2064\n",
       "Name: count, dtype: int64"
      ]
     },
     "execution_count": 6,
     "metadata": {},
     "output_type": "execute_result"
    }
   ],
   "source": [
    "df_constituents[\"mbrflg\"].value_counts()"
   ]
  },
  {
   "cell_type": "code",
   "execution_count": 7,
   "metadata": {},
   "outputs": [
    {
     "data": {
      "text/plain": [
       "indfam\n",
       "1100500    2064\n",
       "Name: count, dtype: int64"
      ]
     },
     "execution_count": 7,
     "metadata": {},
     "output_type": "execute_result"
    }
   ],
   "source": [
    "# There is only one index family for all the constituents.\n",
    "df_constituents[\"indfam\"].value_counts()"
   ]
  },
  {
   "cell_type": "code",
   "execution_count": 8,
   "metadata": {},
   "outputs": [
    {
     "data": {
      "text/plain": [
       "indno\n",
       "1000500    2064\n",
       "Name: count, dtype: int64"
      ]
     },
     "execution_count": 8,
     "metadata": {},
     "output_type": "execute_result"
    }
   ],
   "source": [
    "# There is only one index number for all the constituents.\n",
    "df_constituents[\"indno\"].value_counts()"
   ]
  },
  {
   "cell_type": "code",
   "execution_count": 9,
   "metadata": {},
   "outputs": [
    {
     "data": {
      "text/html": [
       "<div>\n",
       "<style scoped>\n",
       "    .dataframe tbody tr th:only-of-type {\n",
       "        vertical-align: middle;\n",
       "    }\n",
       "\n",
       "    .dataframe tbody tr th {\n",
       "        vertical-align: top;\n",
       "    }\n",
       "\n",
       "    .dataframe thead th {\n",
       "        text-align: right;\n",
       "    }\n",
       "</style>\n",
       "<table border=\"1\" class=\"dataframe\">\n",
       "  <thead>\n",
       "    <tr style=\"text-align: right;\">\n",
       "      <th></th>\n",
       "      <th>permno</th>\n",
       "      <th>indno</th>\n",
       "      <th>mbrstartdt</th>\n",
       "      <th>mbrenddt</th>\n",
       "      <th>mbrflg</th>\n",
       "      <th>indfam</th>\n",
       "    </tr>\n",
       "  </thead>\n",
       "  <tbody>\n",
       "    <tr>\n",
       "      <th>353</th>\n",
       "      <td>15069</td>\n",
       "      <td>1000500</td>\n",
       "      <td>1925-12-31</td>\n",
       "      <td>2024-11-25</td>\n",
       "      <td>NORM</td>\n",
       "      <td>1100500</td>\n",
       "    </tr>\n",
       "    <tr>\n",
       "      <th>12</th>\n",
       "      <td>10145</td>\n",
       "      <td>1000500</td>\n",
       "      <td>1925-12-31</td>\n",
       "      <td>2024-12-31</td>\n",
       "      <td>NORM</td>\n",
       "      <td>1100500</td>\n",
       "    </tr>\n",
       "    <tr>\n",
       "      <th>102</th>\n",
       "      <td>11404</td>\n",
       "      <td>1000500</td>\n",
       "      <td>1925-12-31</td>\n",
       "      <td>2024-12-31</td>\n",
       "      <td>NORM</td>\n",
       "      <td>1100500</td>\n",
       "    </tr>\n",
       "    <tr>\n",
       "      <th>117</th>\n",
       "      <td>11674</td>\n",
       "      <td>1000500</td>\n",
       "      <td>1925-12-31</td>\n",
       "      <td>2024-12-31</td>\n",
       "      <td>NORM</td>\n",
       "      <td>1100500</td>\n",
       "    </tr>\n",
       "    <tr>\n",
       "      <th>130</th>\n",
       "      <td>11850</td>\n",
       "      <td>1000500</td>\n",
       "      <td>1925-12-31</td>\n",
       "      <td>2024-12-31</td>\n",
       "      <td>NORM</td>\n",
       "      <td>1100500</td>\n",
       "    </tr>\n",
       "    <tr>\n",
       "      <th>...</th>\n",
       "      <td>...</td>\n",
       "      <td>...</td>\n",
       "      <td>...</td>\n",
       "      <td>...</td>\n",
       "      <td>...</td>\n",
       "      <td>...</td>\n",
       "    </tr>\n",
       "    <tr>\n",
       "      <th>1990</th>\n",
       "      <td>90520</td>\n",
       "      <td>1000500</td>\n",
       "      <td>2018-12-24</td>\n",
       "      <td>2024-12-31</td>\n",
       "      <td>NORM</td>\n",
       "      <td>1100500</td>\n",
       "    </tr>\n",
       "    <tr>\n",
       "      <th>170</th>\n",
       "      <td>12448</td>\n",
       "      <td>1000500</td>\n",
       "      <td>2019-01-02</td>\n",
       "      <td>2023-05-03</td>\n",
       "      <td>NORM</td>\n",
       "      <td>1100500</td>\n",
       "    </tr>\n",
       "    <tr>\n",
       "      <th>1219</th>\n",
       "      <td>44329</td>\n",
       "      <td>1000500</td>\n",
       "      <td>2019-01-18</td>\n",
       "      <td>2024-12-31</td>\n",
       "      <td>NORM</td>\n",
       "      <td>1100500</td>\n",
       "    </tr>\n",
       "    <tr>\n",
       "      <th>1067</th>\n",
       "      <td>32986</td>\n",
       "      <td>1000500</td>\n",
       "      <td>2019-02-15</td>\n",
       "      <td>2024-12-31</td>\n",
       "      <td>NORM</td>\n",
       "      <td>1100500</td>\n",
       "    </tr>\n",
       "    <tr>\n",
       "      <th>1768</th>\n",
       "      <td>81677</td>\n",
       "      <td>1000500</td>\n",
       "      <td>2019-02-27</td>\n",
       "      <td>2024-12-31</td>\n",
       "      <td>NORM</td>\n",
       "      <td>1100500</td>\n",
       "    </tr>\n",
       "  </tbody>\n",
       "</table>\n",
       "<p>505 rows × 6 columns</p>\n",
       "</div>"
      ],
      "text/plain": [
       "      permno    indno mbrstartdt   mbrenddt mbrflg   indfam\n",
       "353    15069  1000500 1925-12-31 2024-11-25   NORM  1100500\n",
       "12     10145  1000500 1925-12-31 2024-12-31   NORM  1100500\n",
       "102    11404  1000500 1925-12-31 2024-12-31   NORM  1100500\n",
       "117    11674  1000500 1925-12-31 2024-12-31   NORM  1100500\n",
       "130    11850  1000500 1925-12-31 2024-12-31   NORM  1100500\n",
       "...      ...      ...        ...        ...    ...      ...\n",
       "1990   90520  1000500 2018-12-24 2024-12-31   NORM  1100500\n",
       "170    12448  1000500 2019-01-02 2023-05-03   NORM  1100500\n",
       "1219   44329  1000500 2019-01-18 2024-12-31   NORM  1100500\n",
       "1067   32986  1000500 2019-02-15 2024-12-31   NORM  1100500\n",
       "1768   81677  1000500 2019-02-27 2024-12-31   NORM  1100500\n",
       "\n",
       "[505 rows x 6 columns]"
      ]
     },
     "execution_count": 9,
     "metadata": {},
     "output_type": "execute_result"
    }
   ],
   "source": [
    "## Constituents at a given date\n",
    "mydate = pd.to_datetime(\"2019-03-01\")\n",
    "mask = (df_constituents[\"mbrstartdt\"] <= mydate) & (\n",
    "    df_constituents[\"mbrenddt\"] >= mydate\n",
    ")\n",
    "constituents = df_constituents[mask].sort_values(by=[\"mbrstartdt\", \"mbrenddt\"])\n",
    "constituents\n"
   ]
  },
  {
   "cell_type": "code",
   "execution_count": 10,
   "metadata": {},
   "outputs": [
    {
     "data": {
      "text/html": [
       "<div>\n",
       "<style scoped>\n",
       "    .dataframe tbody tr th:only-of-type {\n",
       "        vertical-align: middle;\n",
       "    }\n",
       "\n",
       "    .dataframe tbody tr th {\n",
       "        vertical-align: top;\n",
       "    }\n",
       "\n",
       "    .dataframe thead th {\n",
       "        text-align: right;\n",
       "    }\n",
       "</style>\n",
       "<table border=\"1\" class=\"dataframe\">\n",
       "  <thead>\n",
       "    <tr style=\"text-align: right;\">\n",
       "      <th></th>\n",
       "      <th>permno</th>\n",
       "      <th>indno</th>\n",
       "      <th>mbrstartdt</th>\n",
       "      <th>mbrenddt</th>\n",
       "      <th>mbrflg</th>\n",
       "      <th>indfam</th>\n",
       "    </tr>\n",
       "  </thead>\n",
       "  <tbody>\n",
       "    <tr>\n",
       "      <th>353</th>\n",
       "      <td>15069</td>\n",
       "      <td>1000500</td>\n",
       "      <td>1925-12-31</td>\n",
       "      <td>2024-11-25</td>\n",
       "      <td>NORM</td>\n",
       "      <td>1100500</td>\n",
       "    </tr>\n",
       "    <tr>\n",
       "      <th>12</th>\n",
       "      <td>10145</td>\n",
       "      <td>1000500</td>\n",
       "      <td>1925-12-31</td>\n",
       "      <td>2024-12-31</td>\n",
       "      <td>NORM</td>\n",
       "      <td>1100500</td>\n",
       "    </tr>\n",
       "    <tr>\n",
       "      <th>102</th>\n",
       "      <td>11404</td>\n",
       "      <td>1000500</td>\n",
       "      <td>1925-12-31</td>\n",
       "      <td>2024-12-31</td>\n",
       "      <td>NORM</td>\n",
       "      <td>1100500</td>\n",
       "    </tr>\n",
       "    <tr>\n",
       "      <th>117</th>\n",
       "      <td>11674</td>\n",
       "      <td>1000500</td>\n",
       "      <td>1925-12-31</td>\n",
       "      <td>2024-12-31</td>\n",
       "      <td>NORM</td>\n",
       "      <td>1100500</td>\n",
       "    </tr>\n",
       "    <tr>\n",
       "      <th>130</th>\n",
       "      <td>11850</td>\n",
       "      <td>1000500</td>\n",
       "      <td>1925-12-31</td>\n",
       "      <td>2024-12-31</td>\n",
       "      <td>NORM</td>\n",
       "      <td>1100500</td>\n",
       "    </tr>\n",
       "    <tr>\n",
       "      <th>...</th>\n",
       "      <td>...</td>\n",
       "      <td>...</td>\n",
       "      <td>...</td>\n",
       "      <td>...</td>\n",
       "      <td>...</td>\n",
       "      <td>...</td>\n",
       "    </tr>\n",
       "    <tr>\n",
       "      <th>1219</th>\n",
       "      <td>44329</td>\n",
       "      <td>1000500</td>\n",
       "      <td>2019-01-18</td>\n",
       "      <td>2024-12-31</td>\n",
       "      <td>NORM</td>\n",
       "      <td>1100500</td>\n",
       "    </tr>\n",
       "    <tr>\n",
       "      <th>1067</th>\n",
       "      <td>32986</td>\n",
       "      <td>1000500</td>\n",
       "      <td>2019-02-15</td>\n",
       "      <td>2024-12-31</td>\n",
       "      <td>NORM</td>\n",
       "      <td>1100500</td>\n",
       "    </tr>\n",
       "    <tr>\n",
       "      <th>1768</th>\n",
       "      <td>81677</td>\n",
       "      <td>1000500</td>\n",
       "      <td>2019-02-27</td>\n",
       "      <td>2024-12-31</td>\n",
       "      <td>NORM</td>\n",
       "      <td>1100500</td>\n",
       "    </tr>\n",
       "    <tr>\n",
       "      <th>528</th>\n",
       "      <td>18420</td>\n",
       "      <td>1000500</td>\n",
       "      <td>2019-03-19</td>\n",
       "      <td>2024-12-31</td>\n",
       "      <td>NORM</td>\n",
       "      <td>1100500</td>\n",
       "    </tr>\n",
       "    <tr>\n",
       "      <th>529</th>\n",
       "      <td>18421</td>\n",
       "      <td>1000500</td>\n",
       "      <td>2019-03-19</td>\n",
       "      <td>2024-12-31</td>\n",
       "      <td>NORM</td>\n",
       "      <td>1100500</td>\n",
       "    </tr>\n",
       "  </tbody>\n",
       "</table>\n",
       "<p>505 rows × 6 columns</p>\n",
       "</div>"
      ],
      "text/plain": [
       "      permno    indno mbrstartdt   mbrenddt mbrflg   indfam\n",
       "353    15069  1000500 1925-12-31 2024-11-25   NORM  1100500\n",
       "12     10145  1000500 1925-12-31 2024-12-31   NORM  1100500\n",
       "102    11404  1000500 1925-12-31 2024-12-31   NORM  1100500\n",
       "117    11674  1000500 1925-12-31 2024-12-31   NORM  1100500\n",
       "130    11850  1000500 1925-12-31 2024-12-31   NORM  1100500\n",
       "...      ...      ...        ...        ...    ...      ...\n",
       "1219   44329  1000500 2019-01-18 2024-12-31   NORM  1100500\n",
       "1067   32986  1000500 2019-02-15 2024-12-31   NORM  1100500\n",
       "1768   81677  1000500 2019-02-27 2024-12-31   NORM  1100500\n",
       "528    18420  1000500 2019-03-19 2024-12-31   NORM  1100500\n",
       "529    18421  1000500 2019-03-19 2024-12-31   NORM  1100500\n",
       "\n",
       "[505 rows x 6 columns]"
      ]
     },
     "execution_count": 10,
     "metadata": {},
     "output_type": "execute_result"
    }
   ],
   "source": [
    "## Notice that the constituents change at the end of March.\n",
    "mydate = pd.to_datetime(\"2019-04-01\")\n",
    "mask = (df_constituents[\"mbrstartdt\"] <= mydate) & (\n",
    "    df_constituents[\"mbrenddt\"] >= mydate\n",
    ")\n",
    "constituents = df_constituents[mask].sort_values(by=[\"mbrstartdt\", \"mbrenddt\"])\n",
    "constituents\n"
   ]
  },
  {
   "cell_type": "markdown",
   "metadata": {},
   "source": [
    "#### Load the CRSP Stock and Index Data\n",
    "\n",
    "`df_msf` is the CRSP monthly stock file. This file contains the price and shares outstanding data for all stocks in the CRSP database.\n",
    "\n",
    " - `permno`: Permno of the stock, which is a unique identifier for a stock issued by CRSP.\n",
    " - `date`: Date of the observation.\n",
    " - `prc`: Price of the stock.\n",
    " - `shrout`: Shares outstanding of the stock.\n",
    " - `exchcd`: Exchange code of the stock.\n",
    " - `shrcd`: Share code of the stock.\n",
    " - `siccd`: Standard Industrial Classification code of the stock.\n",
    " - `cfacshr`: Cumulative adjustment factor for shares outstanding. This adjust, e.g., for stock splits.\n",
    " - `cfacpr`: Cumulative adjustment factor for price. This adjust, e.g., for stock splits.\n",
    " - `ret`: Return of the stock, including dividends.\n",
    " - `retx`: Return of the stock, excluding dividends.\n",
    "\n",
    "The cumulative adjustment factors are used to adjust for corporate actions that affect the stock price, such as stock splits. So\n",
    "```python\n",
    "df_msf[\"adj_shrout\"] = df_msf[\"shrout\"] * df_msf[\"cfacshr\"]\n",
    "df_msf[\"adj_prc\"] = df_msf[\"prc\"].abs() / df_msf[\"cfacpr\"]\n",
    "```\n",
    "Total market cap is then\n",
    "```python\n",
    "df_msf[\"market_cap\"] = df_msf[\"adj_prc\"] * df_msf[\"adj_shrout\"].\n",
    "```\n",
    "Note that the price is converted to an absolute value because CRSP reports negative prices when price data is missing and quote data is used in its place. Negative prices indicate that CRSP has used the midpoint of the bid-ask spread as the price. Since we don't mind using quote data or price data, we can safely convert the price to an absolute value.\n",
    "\n",
    "Also, as an additional note, CRSP reports that \"cfacshr\" and \"cfacpr\" are not always equal. This means that we cannot use `market_cap` = `prc` * `shrout` alone. We need to use the cumulative adjustment factors to adjust for corporate actions that affect the stock price, such as stock splits. \"cfacshr\" and \"cfacpr\" are not always equal because of less common distribution events, spinoffs, and rights. See here: [CRSP - Useful Variables](https://vimeo.com/443061703)\n",
    "\n"
   ]
  },
  {
   "cell_type": "markdown",
   "metadata": {},
   "source": []
  },
  {
   "cell_type": "markdown",
   "metadata": {},
   "source": []
  },
  {
   "cell_type": "code",
   "execution_count": 11,
   "metadata": {},
   "outputs": [],
   "source": [
    "df_msf = pull_CRSP_stock.load_CRSP_monthly_file(data_dir=DATA_DIR)\n",
    "df_msix = pull_CRSP_stock.load_CRSP_index_files(data_dir=DATA_DIR)"
   ]
  },
  {
   "cell_type": "code",
   "execution_count": 12,
   "metadata": {},
   "outputs": [
    {
     "name": "stdout",
     "output_type": "stream",
     "text": [
      "<class 'pandas.core.frame.DataFrame'>\n",
      "Index: 3697390 entries, 0 to 197389\n",
      "Data columns (total 23 columns):\n",
      " #   Column      Dtype         \n",
      "---  ------      -----         \n",
      " 0   date        datetime64[ns]\n",
      " 1   permno      int64         \n",
      " 2   permco      int64         \n",
      " 3   shrcd       int64         \n",
      " 4   exchcd      int64         \n",
      " 5   comnam      object        \n",
      " 6   shrcls      object        \n",
      " 7   ret         float64       \n",
      " 8   retx        float64       \n",
      " 9   dlret       float64       \n",
      " 10  dlretx      float64       \n",
      " 11  dlstcd      float64       \n",
      " 12  prc         float64       \n",
      " 13  altprc      float64       \n",
      " 14  vol         float64       \n",
      " 15  shrout      float64       \n",
      " 16  cfacshr     float64       \n",
      " 17  cfacpr      float64       \n",
      " 18  naics       object        \n",
      " 19  siccd       int64         \n",
      " 20  adj_shrout  float64       \n",
      " 21  adj_prc     float64       \n",
      " 22  market_cap  float64       \n",
      "dtypes: datetime64[ns](1), float64(14), int64(5), object(3)\n",
      "memory usage: 677.0+ MB\n"
     ]
    }
   ],
   "source": [
    "df_msf.info()"
   ]
  },
  {
   "cell_type": "markdown",
   "metadata": {},
   "source": [
    "`df_msix` is the CRSP monthly index file. This file contains the return and level of the S&P 500 index.\n",
    "\n",
    " - `caldt`: Date of the observation.\n",
    " - `sprtrn`: Return of the S&P 500 index.\n",
    " - `spindx`: Level of the S&P 500 index.\n",
    "\n",
    "This dataframe also contains information about the CRSP value-weighted index and equal-weighted index, along with the 10 deciles of the CRSP market cap index:\n",
    "((Monthly)NYSE/AMEX/NASDAQ Capitalization Deciles, Annual Rebalanced (msix)) https://wrds-www.wharton.upenn.edu/data-dictionary/crsp_a_indexes/msix/"
   ]
  },
  {
   "cell_type": "code",
   "execution_count": 13,
   "metadata": {},
   "outputs": [
    {
     "name": "stdout",
     "output_type": "stream",
     "text": [
      "<class 'pandas.core.frame.DataFrame'>\n",
      "RangeIndex: 696 entries, 0 to 695\n",
      "Data columns (total 35 columns):\n",
      " #   Column    Non-Null Count  Dtype         \n",
      "---  ------    --------------  -----         \n",
      " 0   caldt     696 non-null    datetime64[ns]\n",
      " 1   vwretd    696 non-null    float64       \n",
      " 2   vwindd    696 non-null    float64       \n",
      " 3   vwretx    696 non-null    float64       \n",
      " 4   vwindx    696 non-null    float64       \n",
      " 5   ewretd    696 non-null    float64       \n",
      " 6   ewindd    696 non-null    float64       \n",
      " 7   ewretx    696 non-null    float64       \n",
      " 8   ewindx    696 non-null    float64       \n",
      " 9   sprtrn    696 non-null    float64       \n",
      " 10  spindx    696 non-null    float64       \n",
      " 11  decret1   696 non-null    float64       \n",
      " 12  decind1   696 non-null    float64       \n",
      " 13  decret2   696 non-null    float64       \n",
      " 14  decind2   696 non-null    float64       \n",
      " 15  decret3   696 non-null    float64       \n",
      " 16  decind3   696 non-null    float64       \n",
      " 17  decret4   696 non-null    float64       \n",
      " 18  decind4   696 non-null    float64       \n",
      " 19  decret5   696 non-null    float64       \n",
      " 20  decind5   696 non-null    float64       \n",
      " 21  decret6   696 non-null    float64       \n",
      " 22  decind6   696 non-null    float64       \n",
      " 23  decret7   696 non-null    float64       \n",
      " 24  decind7   696 non-null    float64       \n",
      " 25  decret8   696 non-null    float64       \n",
      " 26  decind8   696 non-null    float64       \n",
      " 27  decret9   696 non-null    float64       \n",
      " 28  decind9   696 non-null    float64       \n",
      " 29  decret10  696 non-null    float64       \n",
      " 30  decind10  696 non-null    float64       \n",
      " 31  totval    696 non-null    float64       \n",
      " 32  totcnt    696 non-null    int64         \n",
      " 33  usdval    696 non-null    float64       \n",
      " 34  usdcnt    696 non-null    int64         \n",
      "dtypes: datetime64[ns](1), float64(32), int64(2)\n",
      "memory usage: 190.4 KB\n"
     ]
    }
   ],
   "source": [
    "df_msix.info()"
   ]
  },
  {
   "cell_type": "code",
   "execution_count": 14,
   "metadata": {},
   "outputs": [
    {
     "data": {
      "text/html": [
       "<div>\n",
       "<style scoped>\n",
       "    .dataframe tbody tr th:only-of-type {\n",
       "        vertical-align: middle;\n",
       "    }\n",
       "\n",
       "    .dataframe tbody tr th {\n",
       "        vertical-align: top;\n",
       "    }\n",
       "\n",
       "    .dataframe thead th {\n",
       "        text-align: right;\n",
       "    }\n",
       "</style>\n",
       "<table border=\"1\" class=\"dataframe\">\n",
       "  <thead>\n",
       "    <tr style=\"text-align: right;\">\n",
       "      <th></th>\n",
       "      <th>caldt</th>\n",
       "      <th>sprtrn</th>\n",
       "      <th>spindx</th>\n",
       "    </tr>\n",
       "  </thead>\n",
       "  <tbody>\n",
       "    <tr>\n",
       "      <th>691</th>\n",
       "      <td>2022-08-31</td>\n",
       "      <td>-0.042440</td>\n",
       "      <td>3955.00</td>\n",
       "    </tr>\n",
       "    <tr>\n",
       "      <th>692</th>\n",
       "      <td>2022-09-30</td>\n",
       "      <td>-0.093396</td>\n",
       "      <td>3585.62</td>\n",
       "    </tr>\n",
       "    <tr>\n",
       "      <th>693</th>\n",
       "      <td>2022-10-31</td>\n",
       "      <td>0.079864</td>\n",
       "      <td>3871.98</td>\n",
       "    </tr>\n",
       "    <tr>\n",
       "      <th>694</th>\n",
       "      <td>2022-11-30</td>\n",
       "      <td>0.053753</td>\n",
       "      <td>4080.11</td>\n",
       "    </tr>\n",
       "    <tr>\n",
       "      <th>695</th>\n",
       "      <td>2022-12-30</td>\n",
       "      <td>-0.058972</td>\n",
       "      <td>3839.50</td>\n",
       "    </tr>\n",
       "  </tbody>\n",
       "</table>\n",
       "</div>"
      ],
      "text/plain": [
       "         caldt    sprtrn   spindx\n",
       "691 2022-08-31 -0.042440  3955.00\n",
       "692 2022-09-30 -0.093396  3585.62\n",
       "693 2022-10-31  0.079864  3871.98\n",
       "694 2022-11-30  0.053753  4080.11\n",
       "695 2022-12-30 -0.058972  3839.50"
      ]
     },
     "execution_count": 14,
     "metadata": {},
     "output_type": "execute_result"
    }
   ],
   "source": [
    "df_msix[[\"caldt\", \"sprtrn\", \"spindx\"]].tail()"
   ]
  },
  {
   "cell_type": "markdown",
   "metadata": {},
   "source": [
    "### Method A: Simple Sum of Market Caps\n",
    "\n",
    "1. **Market Cap Calculation**: For each stock in the index, compute the market capitalization as:\n",
    "   $$\n",
    "   \\text{MarketCap}_{i, t} = P_{i,t} \\times \\text{Shrout}_{i,t}.\n",
    "   $$\n",
    "   The total market cap of the index is:\n",
    "   $$\n",
    "   \\text{MarketCapSP500}_{t} = \\sum_{i \\in \\mathcal{I}_{S\\&P, t}} \\text{MarketCap}_{i, t},\n",
    "   $$\n",
    "   where $\\mathcal{I}_{S\\&P, t}$ represents the set of constituents at time $t$.\n",
    "\n",
    "2. **Index Level Approximation**: Using the market cap ratio, calculate the approximated index level:\n",
    "   $$\n",
    "   \\text{IndexLevelApproxA}_{t} = \\frac{\\text{MarketCapSP500}_{t}}{\\text{MarketCapSP500}_{t-1}} \\times \\text{IndexLevelApproxA}_{t-1}.\n",
    "   $$\n",
    "   Normalize $\\text{IndexLevelApproxA}$ at the start date to match the actual S\\&P 500 level.\n",
    "\n",
    "3. **Return Approximation**: Calculate the returns as:\n",
    "   $$\n",
    "   R_{A, t} = \\frac{\\text{IndexLevelApproxA}_{t}}{\\text{IndexLevelApproxA}_{t-1}} - 1.\n",
    "   $$\n"
   ]
  },
  {
   "cell_type": "code",
   "execution_count": 15,
   "metadata": {},
   "outputs": [],
   "source": [
    "sp500_total_market_cap = calc_SP500_index.calculate_sp500_total_market_cap(\n",
    "    df_constituents, df_msf\n",
    ")"
   ]
  },
  {
   "cell_type": "code",
   "execution_count": 16,
   "metadata": {},
   "outputs": [
    {
     "data": {
      "text/html": [
       "<div>\n",
       "<style scoped>\n",
       "    .dataframe tbody tr th:only-of-type {\n",
       "        vertical-align: middle;\n",
       "    }\n",
       "\n",
       "    .dataframe tbody tr th {\n",
       "        vertical-align: top;\n",
       "    }\n",
       "\n",
       "    .dataframe thead th {\n",
       "        text-align: right;\n",
       "    }\n",
       "</style>\n",
       "<table border=\"1\" class=\"dataframe\">\n",
       "  <thead>\n",
       "    <tr style=\"text-align: right;\">\n",
       "      <th></th>\n",
       "      <th>date</th>\n",
       "      <th>sp500_market_cap</th>\n",
       "      <th>n_constituents</th>\n",
       "    </tr>\n",
       "  </thead>\n",
       "  <tbody>\n",
       "    <tr>\n",
       "      <th>691</th>\n",
       "      <td>2022-08-31</td>\n",
       "      <td>3.262008e+13</td>\n",
       "      <td>447</td>\n",
       "    </tr>\n",
       "    <tr>\n",
       "      <th>692</th>\n",
       "      <td>2022-09-30</td>\n",
       "      <td>2.958372e+13</td>\n",
       "      <td>445</td>\n",
       "    </tr>\n",
       "    <tr>\n",
       "      <th>693</th>\n",
       "      <td>2022-10-31</td>\n",
       "      <td>3.190338e+13</td>\n",
       "      <td>447</td>\n",
       "    </tr>\n",
       "    <tr>\n",
       "      <th>694</th>\n",
       "      <td>2022-11-30</td>\n",
       "      <td>3.349734e+13</td>\n",
       "      <td>447</td>\n",
       "    </tr>\n",
       "    <tr>\n",
       "      <th>695</th>\n",
       "      <td>2022-12-30</td>\n",
       "      <td>3.144081e+13</td>\n",
       "      <td>447</td>\n",
       "    </tr>\n",
       "  </tbody>\n",
       "</table>\n",
       "</div>"
      ],
      "text/plain": [
       "          date  sp500_market_cap  n_constituents\n",
       "691 2022-08-31      3.262008e+13             447\n",
       "692 2022-09-30      2.958372e+13             445\n",
       "693 2022-10-31      3.190338e+13             447\n",
       "694 2022-11-30      3.349734e+13             447\n",
       "695 2022-12-30      3.144081e+13             447"
      ]
     },
     "execution_count": 16,
     "metadata": {},
     "output_type": "execute_result"
    }
   ],
   "source": [
    "sp500_total_market_cap.tail()"
   ]
  },
  {
   "cell_type": "code",
   "execution_count": 17,
   "metadata": {},
   "outputs": [
    {
     "data": {
      "text/plain": [
       "<Axes: xlabel='date', ylabel='sp500_market_cap'>"
      ]
     },
     "execution_count": 17,
     "metadata": {},
     "output_type": "execute_result"
    },
    {
     "data": {
      "image/png": "[encoded data removed]",
      "text/plain": [
       "<Figure size 640x480 with 1 Axes>"
      ]
     },
     "metadata": {},
     "output_type": "display_data"
    }
   ],
   "source": [
    "sns.lineplot(data=sp500_total_market_cap, x=\"date\", y=\"sp500_market_cap\")"
   ]
  },
  {
   "cell_type": "code",
   "execution_count": 18,
   "metadata": {},
   "outputs": [
    {
     "name": "stdout",
     "output_type": "stream",
     "text": [
      "<class 'pandas.core.frame.DataFrame'>\n",
      "RangeIndex: 696 entries, 0 to 695\n",
      "Data columns (total 9 columns):\n",
      " #   Column                 Non-Null Count  Dtype         \n",
      "---  ------                 --------------  -----         \n",
      " 0   date                   696 non-null    datetime64[ns]\n",
      " 1   spindx                 696 non-null    float64       \n",
      " 2   sprtrn                 696 non-null    float64       \n",
      " 3   sp500_market_cap       696 non-null    float64       \n",
      " 4   n_constituents         696 non-null    int64         \n",
      " 5   sp500_market_cap_norm  696 non-null    float64       \n",
      " 6   ret_approx_A           695 non-null    float64       \n",
      " 7   cumret_approx_A        695 non-null    float64       \n",
      " 8   sp500_cumret           696 non-null    float64       \n",
      "dtypes: datetime64[ns](1), float64(7), int64(1)\n",
      "memory usage: 49.1 KB\n"
     ]
    }
   ],
   "source": [
    "sp500_total_market_cap_and_returns = (\n",
    "    calc_SP500_index.append_actual_sp500_index_and_approx_returns_A(\n",
    "        sp500_total_market_cap, df_msix\n",
    "    )\n",
    ")\n",
    "sp500_total_market_cap_and_returns.info()"
   ]
  },
  {
   "cell_type": "code",
   "execution_count": 19,
   "metadata": {},
   "outputs": [
    {
     "data": {
      "image/png": "[encoded data removed]",
      "text/plain": [
       "<Figure size 1200x600 with 1 Axes>"
      ]
     },
     "metadata": {},
     "output_type": "display_data"
    }
   ],
   "source": [
    "# Plot cumulative returns\n",
    "plt.figure(figsize=(12, 6))\n",
    "sns.lineplot(\n",
    "    data=sp500_total_market_cap_and_returns,\n",
    "    x=\"date\",\n",
    "    y=\"cumret_approx_A\",\n",
    "    label=\"Cumulative Return (Approximation A)\",\n",
    ")\n",
    "sns.lineplot(\n",
    "    data=sp500_total_market_cap_and_returns,\n",
    "    x=\"date\",\n",
    "    y=\"sp500_cumret\",\n",
    "    label=\"Cumulative Return (S&P 500)\",\n",
    ")\n",
    "\n",
    "plt.title(\"S&P 500: Cumulative Returns Comparison\")\n",
    "plt.xlabel(\"Date\")\n",
    "plt.ylabel(\"Cumulative Return (1 = Initial Value)\")\n",
    "plt.grid(True)\n",
    "plt.legend()\n",
    "plt.show()"
   ]
  },
  {
   "cell_type": "code",
   "execution_count": 20,
   "metadata": {},
   "outputs": [
    {
     "name": "stdout",
     "output_type": "stream",
     "text": [
      "Correlation between returns: 0.9921\n"
     ]
    }
   ],
   "source": [
    "# Print correlation of returns\n",
    "correlation = sp500_total_market_cap_and_returns[\"ret_approx_A\"].corr(\n",
    "    sp500_total_market_cap_and_returns[\"sprtrn\"]\n",
    ")\n",
    "print(f\"Correlation between returns: {correlation:.4f}\")\n"
   ]
  },
  {
   "cell_type": "markdown",
   "metadata": {},
   "source": [
    "Notice that the difference in the cumulative returns is quite large by the end of the sample. However, the correlation between the returns is quite high (over 0.99). This \n",
    "just shows the consequences of compounding small differences over a long period of time.\n",
    "\n",
    "Part of the reason why these series are so different is that the approximation method does not account for quarterly rebalancing.\n"
   ]
  },
  {
   "cell_type": "markdown",
   "metadata": {},
   "source": [
    "This method assumes that the index composition remains fixed and does not account for quarterly rebalancing. Also, this method does not represent a tradable portfolio strategy. When a stock is removed from the index and a new stock is added, this represents selling a stock that has since dropped in value and buying a new stock that has since increased in value. The returns of the index should represent the fact that a self-financing portfolio strategy is used, and this method does not represent this. The next method does.\n"
   ]
  },
  {
   "cell_type": "markdown",
   "metadata": {},
   "source": [
    "---\n",
    "\n",
    "### Method B: Portfolio Rebalancing\n",
    "\n",
    "This method assumes that a trader forms a porfolio holding the index's constituents and rebalances the portfolio quarterly. Let's assume that the total amount of money in the portfolio at the beginning of the period is 1 (e.g. \\$1 million). Then, assume that at each rebalancing date (in this case, quarterly), the trader buys and sells stocks such that the portfolio weights are equal to the weights of the index's constituents with respect to the ratio of the market cap of each stock to the total market cap of the index.\n",
    "\n",
    "\n",
    "1. **Weight Calculation**: For each stock $i$, calculate its weight in the index:\n",
    "   $$\n",
    "   w_{i, t} = \\begin{cases} \n",
    "   \\frac{\\text{MarketCap}_{i, t}}{\\text{MarketCapSP500}_{t}} & \\text{if } i \\in \\mathcal{I}_{S\\&P, t} \\\\\n",
    "   0 & \\text{otherwise}\n",
    "   \\end{cases}\n",
    "   $$\n",
    "\n",
    "2. **Portfolio Rebalancing**: Implement quarterly rebalancing. The portfolio weights $w^p_{i, t}$ are given by\n",
    "   $$\n",
    "   w^p_{i, t} = \n",
    "   \\begin{cases} \n",
    "   w_{i, t} & \\text{if } t \\text{ is a rebalancing date}, \\\\ \n",
    "   w^p_{i, t-1} & \\text{otherwise},\n",
    "   \\end{cases}\n",
    "   $$\n",
    "   for all $i$ and $t$.\n",
    "\n",
    "3. **Return Approximation**: Calculate the portfolio return as:\n",
    "   $$\n",
    "   R_{B, t+1} = \\sum_{i} w^p_{i, t} \\times R_{i, t+1},\n",
    "   $$\n",
    "   where $R_{i, t+1}$ is the return of stock $i$ between $t$ and $t+1$.\n",
    "\n",
    "4. **Index Level Approximation**: Use the approximated returns to calculate the index level, normalized to match the official S&P 500 at the start date.\n",
    "\n",
    "\n",
    "\n",
    "**IMPORTANT**: To make this method work as accurately as possible, use the `retx` variable for $R_{i, t+1}$. This is because the `ret` variable includes dividends, which are not part of the S&P 500 index."
   ]
  },
  {
   "cell_type": "code",
   "execution_count": 21,
   "metadata": {},
   "outputs": [],
   "source": [
    "sp500_returns_B = calc_SP500_index.calculate_sp500_returns_with_rebalancing(\n",
    "    df_constituents, df_msf, start_date=START_DATE, end_date=END_DATE\n",
    ")\n",
    "df_msix[\"date\"] = pd.to_datetime(df_msix[\"caldt\"])\n",
    "sp500_returns_B = pd.merge(\n",
    "    df_msix[[\"date\", \"spindx\", \"sprtrn\"]],\n",
    "    sp500_returns_B,\n",
    "    on=\"date\",\n",
    "    how=\"inner\",\n",
    ")\n"
   ]
  },
  {
   "cell_type": "code",
   "execution_count": 22,
   "metadata": {},
   "outputs": [
    {
     "data": {
      "text/html": [
       "<div>\n",
       "<style scoped>\n",
       "    .dataframe tbody tr th:only-of-type {\n",
       "        vertical-align: middle;\n",
       "    }\n",
       "\n",
       "    .dataframe tbody tr th {\n",
       "        vertical-align: top;\n",
       "    }\n",
       "\n",
       "    .dataframe thead th {\n",
       "        text-align: right;\n",
       "    }\n",
       "</style>\n",
       "<table border=\"1\" class=\"dataframe\">\n",
       "  <thead>\n",
       "    <tr style=\"text-align: right;\">\n",
       "      <th></th>\n",
       "      <th>date</th>\n",
       "      <th>spindx</th>\n",
       "      <th>sprtrn</th>\n",
       "      <th>ret_approx_B</th>\n",
       "      <th>diff</th>\n",
       "    </tr>\n",
       "  </thead>\n",
       "  <tbody>\n",
       "    <tr>\n",
       "      <th>count</th>\n",
       "      <td>696</td>\n",
       "      <td>696.000000</td>\n",
       "      <td>696.000000</td>\n",
       "      <td>696.000000</td>\n",
       "      <td>696.000000</td>\n",
       "    </tr>\n",
       "    <tr>\n",
       "      <th>mean</th>\n",
       "      <td>1994-01-13 21:55:51.724137984</td>\n",
       "      <td>915.805086</td>\n",
       "      <td>0.006457</td>\n",
       "      <td>0.006465</td>\n",
       "      <td>0.000008</td>\n",
       "    </tr>\n",
       "    <tr>\n",
       "      <th>min</th>\n",
       "      <td>1965-01-29 00:00:00</td>\n",
       "      <td>63.540000</td>\n",
       "      <td>-0.217630</td>\n",
       "      <td>-0.217352</td>\n",
       "      <td>-0.009691</td>\n",
       "    </tr>\n",
       "    <tr>\n",
       "      <th>25%</th>\n",
       "      <td>1979-07-23 00:00:00</td>\n",
       "      <td>109.477500</td>\n",
       "      <td>-0.018313</td>\n",
       "      <td>-0.018589</td>\n",
       "      <td>-0.000924</td>\n",
       "    </tr>\n",
       "    <tr>\n",
       "      <th>50%</th>\n",
       "      <td>1994-01-15 12:00:00</td>\n",
       "      <td>457.380000</td>\n",
       "      <td>0.009219</td>\n",
       "      <td>0.009779</td>\n",
       "      <td>-0.000043</td>\n",
       "    </tr>\n",
       "    <tr>\n",
       "      <th>75%</th>\n",
       "      <td>2008-07-07 18:00:00</td>\n",
       "      <td>1320.312500</td>\n",
       "      <td>0.035196</td>\n",
       "      <td>0.034665</td>\n",
       "      <td>0.000922</td>\n",
       "    </tr>\n",
       "    <tr>\n",
       "      <th>max</th>\n",
       "      <td>2022-12-30 00:00:00</td>\n",
       "      <td>4766.180000</td>\n",
       "      <td>0.163047</td>\n",
       "      <td>0.163577</td>\n",
       "      <td>0.014773</td>\n",
       "    </tr>\n",
       "    <tr>\n",
       "      <th>std</th>\n",
       "      <td>NaN</td>\n",
       "      <td>1014.371904</td>\n",
       "      <td>0.043708</td>\n",
       "      <td>0.043708</td>\n",
       "      <td>0.001965</td>\n",
       "    </tr>\n",
       "  </tbody>\n",
       "</table>\n",
       "</div>"
      ],
      "text/plain": [
       "                                date       spindx      sprtrn  ret_approx_B  \\\n",
       "count                            696   696.000000  696.000000    696.000000   \n",
       "mean   1994-01-13 21:55:51.724137984   915.805086    0.006457      0.006465   \n",
       "min              1965-01-29 00:00:00    63.540000   -0.217630     -0.217352   \n",
       "25%              1979-07-23 00:00:00   109.477500   -0.018313     -0.018589   \n",
       "50%              1994-01-15 12:00:00   457.380000    0.009219      0.009779   \n",
       "75%              2008-07-07 18:00:00  1320.312500    0.035196      0.034665   \n",
       "max              2022-12-30 00:00:00  4766.180000    0.163047      0.163577   \n",
       "std                              NaN  1014.371904    0.043708      0.043708   \n",
       "\n",
       "             diff  \n",
       "count  696.000000  \n",
       "mean     0.000008  \n",
       "min     -0.009691  \n",
       "25%     -0.000924  \n",
       "50%     -0.000043  \n",
       "75%      0.000922  \n",
       "max      0.014773  \n",
       "std      0.001965  "
      ]
     },
     "execution_count": 22,
     "metadata": {},
     "output_type": "execute_result"
    },
    {
     "data": {
      "image/png": "[encoded data removed]",
      "text/plain": [
       "<Figure size 640x480 with 1 Axes>"
      ]
     },
     "metadata": {},
     "output_type": "display_data"
    }
   ],
   "source": [
    "sp500_returns_B[\"diff\"] = sp500_returns_B[\"ret_approx_B\"] - sp500_returns_B[\"sprtrn\"]\n",
    "sns.lineplot(data=sp500_returns_B, x=\"date\", y=\"diff\", label=\"Rebalanced Portfolio\")\n",
    "sp500_returns_B.describe()"
   ]
  },
  {
   "cell_type": "code",
   "execution_count": 23,
   "metadata": {},
   "outputs": [
    {
     "name": "stdout",
     "output_type": "stream",
     "text": [
      "Correlation between reconstructed and actual returns: 0.9990\n"
     ]
    }
   ],
   "source": [
    "# Print correlation\n",
    "correlation = sp500_returns_B[\"ret_approx_B\"].corr(sp500_returns_B[\"sprtrn\"])\n",
    "print(f\"Correlation between reconstructed and actual returns: {correlation:.4f}\")\n"
   ]
  },
  {
   "cell_type": "code",
   "execution_count": 24,
   "metadata": {},
   "outputs": [
    {
     "data": {
      "image/png": "[encoded data removed]",
      "text/plain": [
       "<Figure size 1200x600 with 1 Axes>"
      ]
     },
     "metadata": {},
     "output_type": "display_data"
    }
   ],
   "source": [
    "# Calculate cumulative returns\n",
    "sp500_returns_B[\"cumret_approx_B\"] = (1 + sp500_returns_B[\"ret_approx_B\"]).cumprod()\n",
    "sp500_returns_B[\"cumret_actual\"] = (1 + sp500_returns_B[\"sprtrn\"]).cumprod()\n",
    "\n",
    "# Plot cumulative returns\n",
    "plt.figure(figsize=(12, 6))\n",
    "sns.lineplot(\n",
    "    data=sp500_returns_B,\n",
    "    x=\"date\",\n",
    "    y=\"cumret_approx_B\",\n",
    "    label=\"Cumulative Return (Rebalanced Portfolio)\",\n",
    ")\n",
    "sns.lineplot(\n",
    "    data=sp500_returns_B,\n",
    "    x=\"date\",\n",
    "    y=\"cumret_actual\",\n",
    "    label=\"Cumulative Return (S&P 500)\",\n",
    ")\n",
    "plt.title(\"S&P 500: Cumulative Returns with Quarterly Rebalancing\")\n",
    "plt.xlabel(\"Date\")\n",
    "plt.ylabel(\"Cumulative Return (1 = Initial Value)\")\n",
    "plt.grid(True)\n",
    "plt.legend()\n",
    "plt.show()\n"
   ]
  },
  {
   "cell_type": "markdown",
   "metadata": {},
   "source": [
    "Above we can now see that the cumulative returns are very similar. The correlation between the returns is even higher (over 0.998)."
   ]
  },
  {
   "cell_type": "markdown",
   "metadata": {},
   "source": [
    "---\n",
    "\n",
    "### Comparing the Approximations\n",
    "\n",
    "Once both methods are implemented, compare the reconstructed index to the actual S\\&P 500 by:\n",
    "\n",
    "1. **Correlation of Returns**: Measure the correlation between the approximated returns and the official S\\&P 500 returns.\n",
    "2. **Index Level Alignment**: Plot the approximated index levels against the official levels to assess how well each method tracks the S\\&P 500 over time.\n",
    "3. **Impact of Rebalancing**: Analyze how quarterly rebalancing affects the accuracy of the reconstruction."
   ]
  },
  {
   "cell_type": "code",
   "execution_count": 25,
   "metadata": {},
   "outputs": [
    {
     "name": "stdout",
     "output_type": "stream",
     "text": [
      "<class 'pandas.core.frame.DataFrame'>\n",
      "RangeIndex: 696 entries, 0 to 695\n",
      "Data columns (total 10 columns):\n",
      " #   Column                 Non-Null Count  Dtype         \n",
      "---  ------                 --------------  -----         \n",
      " 0   date                   696 non-null    datetime64[ns]\n",
      " 1   spindx                 696 non-null    float64       \n",
      " 2   sprtrn                 696 non-null    float64       \n",
      " 3   sp500_market_cap       696 non-null    float64       \n",
      " 4   n_constituents         696 non-null    int64         \n",
      " 5   sp500_market_cap_norm  696 non-null    float64       \n",
      " 6   ret_approx_A           695 non-null    float64       \n",
      " 7   cumret_approx_A        695 non-null    float64       \n",
      " 8   sp500_cumret           696 non-null    float64       \n",
      " 9   ret_approx_B           696 non-null    float64       \n",
      "dtypes: datetime64[ns](1), float64(8), int64(1)\n",
      "memory usage: 54.5 KB\n"
     ]
    }
   ],
   "source": [
    "## Function that merges all results together\n",
    "df = calc_SP500_index.create_sp500_index_approximations(data_dir=DATA_DIR)\n",
    "df.info()"
   ]
  },
  {
   "cell_type": "code",
   "execution_count": 26,
   "metadata": {},
   "outputs": [
    {
     "data": {
      "text/html": [
       "<div>\n",
       "<style scoped>\n",
       "    .dataframe tbody tr th:only-of-type {\n",
       "        vertical-align: middle;\n",
       "    }\n",
       "\n",
       "    .dataframe tbody tr th {\n",
       "        vertical-align: top;\n",
       "    }\n",
       "\n",
       "    .dataframe thead th {\n",
       "        text-align: right;\n",
       "    }\n",
       "</style>\n",
       "<table border=\"1\" class=\"dataframe\">\n",
       "  <thead>\n",
       "    <tr style=\"text-align: right;\">\n",
       "      <th></th>\n",
       "      <th>sprtrn</th>\n",
       "      <th>ret_approx_A</th>\n",
       "      <th>ret_approx_B</th>\n",
       "    </tr>\n",
       "  </thead>\n",
       "  <tbody>\n",
       "    <tr>\n",
       "      <th>sprtrn</th>\n",
       "      <td>1.000000</td>\n",
       "      <td>0.992116</td>\n",
       "      <td>0.998989</td>\n",
       "    </tr>\n",
       "    <tr>\n",
       "      <th>ret_approx_A</th>\n",
       "      <td>0.992116</td>\n",
       "      <td>1.000000</td>\n",
       "      <td>0.991552</td>\n",
       "    </tr>\n",
       "    <tr>\n",
       "      <th>ret_approx_B</th>\n",
       "      <td>0.998989</td>\n",
       "      <td>0.991552</td>\n",
       "      <td>1.000000</td>\n",
       "    </tr>\n",
       "  </tbody>\n",
       "</table>\n",
       "</div>"
      ],
      "text/plain": [
       "                sprtrn  ret_approx_A  ret_approx_B\n",
       "sprtrn        1.000000      0.992116      0.998989\n",
       "ret_approx_A  0.992116      1.000000      0.991552\n",
       "ret_approx_B  0.998989      0.991552      1.000000"
      ]
     },
     "execution_count": 26,
     "metadata": {},
     "output_type": "execute_result"
    }
   ],
   "source": [
    "df[[\"sprtrn\", \"ret_approx_A\", \"ret_approx_B\"]].corr()\n"
   ]
  },
  {
   "cell_type": "markdown",
   "metadata": {},
   "source": [
    "Above we saw that the rebalanced portfolio method is more accurate than the simple sum of market caps method. The cumulative returns are much more similar and the correlation between the returns is higher."
   ]
  }
 ],
 "metadata": {
  "language_info": {
   "name": "python"
  }
 },
 "nbformat": 4,
 "nbformat_minor": 2
}
